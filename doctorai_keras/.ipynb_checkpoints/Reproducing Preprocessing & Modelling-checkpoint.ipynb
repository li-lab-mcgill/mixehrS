{
 "cells": [
  {
   "cell_type": "code",
   "execution_count": 1,
   "metadata": {},
   "outputs": [],
   "source": [
    "import os\n",
    "import pickle\n",
    "\n",
    "import numpy as np\n",
    "import pandas as pd\n",
    "import matplotlib.pyplot as plt\n",
    "import tensorflow as tf\n",
    "from tensorflow.keras.preprocessing.text import Tokenizer\n",
    "from tensorflow.keras.preprocessing.sequence import pad_sequences\n",
    "from tensorflow.keras.layers import Input, Dense, GRU, Embedding, Dropout, Masking, GlobalMaxPooling1D, TimeDistributed\n",
    "from tensorflow.keras.models import Model\n",
    "from tensorflow.keras.callbacks import Callback\n",
    "import tensorflow.keras.backend as K\n",
    "from sklearn.preprocessing import MultiLabelBinarizer\n",
    "from sklearn.model_selection import train_test_split\n",
    "from tqdm import tqdm"
   ]
  },
  {
   "cell_type": "code",
   "execution_count": 2,
   "metadata": {},
   "outputs": [
    {
     "data": {
      "text/plain": [
       "True"
      ]
     },
     "execution_count": 2,
     "metadata": {},
     "output_type": "execute_result"
    }
   ],
   "source": [
    "os.environ[\"CUDA_DEVICE_ORDER\"] = \"PCI_BUS_ID\"\n",
    "os.environ[\"CUDA_VISIBLE_DEVICES\"] = \"1\"\n",
    "\n",
    "tf.test.is_gpu_available()"
   ]
  },
  {
   "cell_type": "markdown",
   "metadata": {},
   "source": [
    "# Preprocessing"
   ]
  },
  {
   "cell_type": "markdown",
   "metadata": {},
   "source": [
    "## Load Data"
   ]
  },
  {
   "cell_type": "code",
   "execution_count": 3,
   "metadata": {},
   "outputs": [],
   "source": [
    "admissions = pd.read_csv('../data/original/ADMISSIONS.csv')\n",
    "diagnoses = pd.read_csv('../data/original/DIAGNOSES_ICD.csv', dtype={'ICD9_CODE': str})"
   ]
  },
  {
   "cell_type": "markdown",
   "metadata": {},
   "source": [
    "## Filtering longitudinal\n",
    "\n",
    "Only keep patients with 2 or more visits where they were given a diagnosis."
   ]
  },
  {
   "cell_type": "code",
   "execution_count": 4,
   "metadata": {},
   "outputs": [
    {
     "data": {
      "text/plain": [
       "(7499,)"
      ]
     },
     "execution_count": 4,
     "metadata": {},
     "output_type": "execute_result"
    }
   ],
   "source": [
    "diag_freqs = (\n",
    "    diagnoses.dropna()\n",
    "    .loc[:, ['SUBJECT_ID', 'HADM_ID']]\n",
    "    .drop_duplicates()\n",
    "    .SUBJECT_ID\n",
    "    .value_counts()\n",
    ")\n",
    "selected_subjs = diag_freqs[diag_freqs >= 2].index.values\n",
    "selected_subjs.shape"
   ]
  },
  {
   "cell_type": "code",
   "execution_count": 5,
   "metadata": {},
   "outputs": [
    {
     "data": {
      "text/plain": [
       "(19917, 20)"
      ]
     },
     "execution_count": 5,
     "metadata": {},
     "output_type": "execute_result"
    }
   ],
   "source": [
    "admissions_long = admissions.loc[admissions.SUBJECT_ID.isin(selected_subjs)]\n",
    "admissions_long.shape"
   ]
  },
  {
   "cell_type": "code",
   "execution_count": 6,
   "metadata": {},
   "outputs": [
    {
     "name": "stdout",
     "output_type": "stream",
     "text": [
      "(259995, 4)\n"
     ]
    },
    {
     "data": {
      "text/html": [
       "<div>\n",
       "<style scoped>\n",
       "    .dataframe tbody tr th:only-of-type {\n",
       "        vertical-align: middle;\n",
       "    }\n",
       "\n",
       "    .dataframe tbody tr th {\n",
       "        vertical-align: top;\n",
       "    }\n",
       "\n",
       "    .dataframe thead th {\n",
       "        text-align: right;\n",
       "    }\n",
       "</style>\n",
       "<table border=\"1\" class=\"dataframe\">\n",
       "  <thead>\n",
       "    <tr style=\"text-align: right;\">\n",
       "      <th></th>\n",
       "      <th>SUBJECT_ID</th>\n",
       "      <th>HADM_ID</th>\n",
       "      <th>ICD9_CODE</th>\n",
       "      <th>ADMITTIME</th>\n",
       "    </tr>\n",
       "  </thead>\n",
       "  <tbody>\n",
       "    <tr>\n",
       "      <td>627</td>\n",
       "      <td>17</td>\n",
       "      <td>194023</td>\n",
       "      <td>7455</td>\n",
       "      <td>2134-12-27 07:15:00</td>\n",
       "    </tr>\n",
       "    <tr>\n",
       "      <td>628</td>\n",
       "      <td>17</td>\n",
       "      <td>194023</td>\n",
       "      <td>45829</td>\n",
       "      <td>2134-12-27 07:15:00</td>\n",
       "    </tr>\n",
       "    <tr>\n",
       "      <td>629</td>\n",
       "      <td>17</td>\n",
       "      <td>194023</td>\n",
       "      <td>V1259</td>\n",
       "      <td>2134-12-27 07:15:00</td>\n",
       "    </tr>\n",
       "    <tr>\n",
       "      <td>630</td>\n",
       "      <td>17</td>\n",
       "      <td>194023</td>\n",
       "      <td>2724</td>\n",
       "      <td>2134-12-27 07:15:00</td>\n",
       "    </tr>\n",
       "    <tr>\n",
       "      <td>619</td>\n",
       "      <td>17</td>\n",
       "      <td>161087</td>\n",
       "      <td>4239</td>\n",
       "      <td>2135-05-09 14:11:00</td>\n",
       "    </tr>\n",
       "  </tbody>\n",
       "</table>\n",
       "</div>"
      ],
      "text/plain": [
       "     SUBJECT_ID  HADM_ID ICD9_CODE           ADMITTIME\n",
       "627          17   194023      7455 2134-12-27 07:15:00\n",
       "628          17   194023     45829 2134-12-27 07:15:00\n",
       "629          17   194023     V1259 2134-12-27 07:15:00\n",
       "630          17   194023      2724 2134-12-27 07:15:00\n",
       "619          17   161087      4239 2135-05-09 14:11:00"
      ]
     },
     "execution_count": 6,
     "metadata": {},
     "output_type": "execute_result"
    }
   ],
   "source": [
    "diagnoses_long = (\n",
    "    diagnoses.loc[diagnoses.SUBJECT_ID.isin(selected_subjs)]\n",
    "    .loc[:, [\"SUBJECT_ID\", \"HADM_ID\", \"ICD9_CODE\"]]\n",
    "    .dropna()\n",
    "    .merge(admissions_long[['HADM_ID', 'ADMITTIME']], how='left', on=['HADM_ID'])\n",
    "    .astype({'ADMITTIME': 'datetime64[ns]', 'ICD9_CODE': str})\n",
    "    .sort_values(['SUBJECT_ID', 'ADMITTIME'])\n",
    ")\n",
    "\n",
    "print(diagnoses_long.shape)\n",
    "diagnoses_long.head()"
   ]
  },
  {
   "cell_type": "markdown",
   "metadata": {},
   "source": [
    "## Understand ICD9 for MIMIC-III\n",
    "\n",
    "It seems like the diagnoses code length varies, and does not follow the same convention as ICD-9 exactly (there is no dot delimiting group from actual values, and length of each code seems to vary."
   ]
  },
  {
   "cell_type": "code",
   "execution_count": 7,
   "metadata": {
    "scrolled": true
   },
   "outputs": [
    {
     "name": "stdout",
     "output_type": "stream",
     "text": [
      "(10457, 4)\n",
      "['035' '042' '075' '096' '118' '135' '138' '185' '193' '217' '220' '226'\n",
      " '243' '260' '261' '262' '267' '311' '316' '317' '319' '325' '326' '340'\n",
      " '390' '412' '430' '431' '436' '449' '452' '462' '463' '470' '475' '481'\n",
      " '485' '486' '490' '496' '500' '501' '502' '514' '515' '538' '541' '542'\n",
      " '566' '570']\n",
      "(118808, 4)\n",
      "['0030' '0049' '0051' '0074' '0085' '0088' '0090' '0091' '0092' '0093'\n",
      " '0239' '0270' '0272' '0310' '0311' '0312' '0319' '0329' '0338' '0340'\n",
      " '0360' '0380' '0382' '0383' '0388' '0389' '0391' '0398' '0400' '0412'\n",
      " '0413' '0414' '0415' '0416' '0417' '0419' '0463' '0470' '0478' '0479'\n",
      " '0490' '0491' '0498' '0499' '0521' '0529' '0530' '0539' '0542' '0543']\n",
      "(130730, 4)\n",
      "['00581' '00841' '00843' '00845' '00847' '00863' '00869' '01085' '01190'\n",
      " '01194' '01215' '01300' '01325' '01330' '01803' '01805' '01880' '01890'\n",
      " '01894' '01895' '01896' '03285' '03289' '03810' '03811' '03812' '03819'\n",
      " '03840' '03842' '03843' '03844' '03849' '04082' '04100' '04101' '04102'\n",
      " '04103' '04104' '04109' '04110' '04111' '04112' '04119' '04149' '04182'\n",
      " '04183' '04184' '04185' '04186' '04189']\n"
     ]
    }
   ],
   "source": [
    "for i in range(3, 6):\n",
    "    mask = diagnoses_long.ICD9_CODE.apply(len) == i\n",
    "    print(diagnoses_long[mask].shape)\n",
    "    print(diagnoses_long[mask].ICD9_CODE.sort_values().unique()[:50])"
   ]
  },
  {
   "cell_type": "markdown",
   "metadata": {},
   "source": [
    "We observe that the length of each code varies depending on the values after the **dot** in the ICD-9 code. If the length is 3, then it is implictly a 0 (e.g. `'035'` indicates the code 035.0), and length of 4 means there is only one value after the dot (`0049` indicates 004.9), and length of 5 means there are 2 values after the dot."
   ]
  },
  {
   "cell_type": "markdown",
   "metadata": {},
   "source": [
    "## Clean ICD9 Code\n",
    "\n",
    "We create a function to correct the ICD-9 code by adding a dot at the right place. This will usually be after the 3rd digit, except for \"External causes of injury (V)\", which is 4-digits. We also add the implicit 0 whenever needed."
   ]
  },
  {
   "cell_type": "code",
   "execution_count": 8,
   "metadata": {},
   "outputs": [
    {
     "data": {
      "text/html": [
       "<div>\n",
       "<style scoped>\n",
       "    .dataframe tbody tr th:only-of-type {\n",
       "        vertical-align: middle;\n",
       "    }\n",
       "\n",
       "    .dataframe tbody tr th {\n",
       "        vertical-align: top;\n",
       "    }\n",
       "\n",
       "    .dataframe thead th {\n",
       "        text-align: right;\n",
       "    }\n",
       "</style>\n",
       "<table border=\"1\" class=\"dataframe\">\n",
       "  <thead>\n",
       "    <tr style=\"text-align: right;\">\n",
       "      <th></th>\n",
       "      <th>SUBJECT_ID</th>\n",
       "      <th>HADM_ID</th>\n",
       "      <th>ICD9_CODE</th>\n",
       "      <th>ADMITTIME</th>\n",
       "    </tr>\n",
       "  </thead>\n",
       "  <tbody>\n",
       "    <tr>\n",
       "      <td>627</td>\n",
       "      <td>17</td>\n",
       "      <td>194023</td>\n",
       "      <td>745.5</td>\n",
       "      <td>2134-12-27 07:15:00</td>\n",
       "    </tr>\n",
       "    <tr>\n",
       "      <td>628</td>\n",
       "      <td>17</td>\n",
       "      <td>194023</td>\n",
       "      <td>458.29</td>\n",
       "      <td>2134-12-27 07:15:00</td>\n",
       "    </tr>\n",
       "    <tr>\n",
       "      <td>629</td>\n",
       "      <td>17</td>\n",
       "      <td>194023</td>\n",
       "      <td>V12.59</td>\n",
       "      <td>2134-12-27 07:15:00</td>\n",
       "    </tr>\n",
       "    <tr>\n",
       "      <td>630</td>\n",
       "      <td>17</td>\n",
       "      <td>194023</td>\n",
       "      <td>272.4</td>\n",
       "      <td>2134-12-27 07:15:00</td>\n",
       "    </tr>\n",
       "    <tr>\n",
       "      <td>619</td>\n",
       "      <td>17</td>\n",
       "      <td>161087</td>\n",
       "      <td>423.9</td>\n",
       "      <td>2135-05-09 14:11:00</td>\n",
       "    </tr>\n",
       "  </tbody>\n",
       "</table>\n",
       "</div>"
      ],
      "text/plain": [
       "     SUBJECT_ID  HADM_ID ICD9_CODE           ADMITTIME\n",
       "627          17   194023     745.5 2134-12-27 07:15:00\n",
       "628          17   194023    458.29 2134-12-27 07:15:00\n",
       "629          17   194023    V12.59 2134-12-27 07:15:00\n",
       "630          17   194023     272.4 2134-12-27 07:15:00\n",
       "619          17   161087     423.9 2135-05-09 14:11:00"
      ]
     },
     "execution_count": 8,
     "metadata": {},
     "output_type": "execute_result"
    }
   ],
   "source": [
    "def correct_icd9(code):\n",
    "    if 'E' in code:\n",
    "        return code[:4] + '.' + code[4:]\n",
    "    \n",
    "    if len(code) == 3:\n",
    "        code += '0'\n",
    "    \n",
    "    return code[:3] + '.' + code[3:]\n",
    "\n",
    "diagnoses_long.ICD9_CODE = diagnoses_long.ICD9_CODE.apply(correct_icd9)\n",
    "diagnoses_long.head()"
   ]
  },
  {
   "cell_type": "markdown",
   "metadata": {},
   "source": [
    "## Grouping diagnosis by admission"
   ]
  },
  {
   "cell_type": "code",
   "execution_count": 9,
   "metadata": {},
   "outputs": [
    {
     "name": "stdout",
     "output_type": "stream",
     "text": [
      "(19911, 4)\n"
     ]
    },
    {
     "data": {
      "text/html": [
       "<div>\n",
       "<style scoped>\n",
       "    .dataframe tbody tr th:only-of-type {\n",
       "        vertical-align: middle;\n",
       "    }\n",
       "\n",
       "    .dataframe tbody tr th {\n",
       "        vertical-align: top;\n",
       "    }\n",
       "\n",
       "    .dataframe thead th {\n",
       "        text-align: right;\n",
       "    }\n",
       "</style>\n",
       "<table border=\"1\" class=\"dataframe\">\n",
       "  <thead>\n",
       "    <tr style=\"text-align: right;\">\n",
       "      <th></th>\n",
       "      <th>SUBJECT_ID</th>\n",
       "      <th>HADM_ID</th>\n",
       "      <th>DIAGNOSES</th>\n",
       "      <th>DIAGNOSES_STR</th>\n",
       "    </tr>\n",
       "  </thead>\n",
       "  <tbody>\n",
       "    <tr>\n",
       "      <td>0</td>\n",
       "      <td>17</td>\n",
       "      <td>161087</td>\n",
       "      <td>[423.9, 511.9, 785.51, 458.9, 311.0, 722.0, 71...</td>\n",
       "      <td>423.9 511.9 785.51 458.9 311.0 722.0 719.46 272.4</td>\n",
       "    </tr>\n",
       "    <tr>\n",
       "      <td>1</td>\n",
       "      <td>17</td>\n",
       "      <td>194023</td>\n",
       "      <td>[745.5, 458.29, V12.59, 272.4]</td>\n",
       "      <td>745.5 458.29 V12.59 272.4</td>\n",
       "    </tr>\n",
       "    <tr>\n",
       "      <td>2</td>\n",
       "      <td>21</td>\n",
       "      <td>109451</td>\n",
       "      <td>[410.71, 785.51, 578.1, 584.9, 403.91, 428.0, ...</td>\n",
       "      <td>410.71 785.51 578.1 584.9 403.91 428.0 459.2 5...</td>\n",
       "    </tr>\n",
       "    <tr>\n",
       "      <td>3</td>\n",
       "      <td>21</td>\n",
       "      <td>111970</td>\n",
       "      <td>[038.8, 785.52, 403.91, 427.31, 707.09, 511.9,...</td>\n",
       "      <td>038.8 785.52 403.91 427.31 707.09 511.9 682.3 ...</td>\n",
       "    </tr>\n",
       "    <tr>\n",
       "      <td>4</td>\n",
       "      <td>23</td>\n",
       "      <td>124321</td>\n",
       "      <td>[225.2, 348.5, 780.39, 424.1, 401.9, 272.0, 27...</td>\n",
       "      <td>225.2 348.5 780.39 424.1 401.9 272.0 272.4 V45...</td>\n",
       "    </tr>\n",
       "  </tbody>\n",
       "</table>\n",
       "</div>"
      ],
      "text/plain": [
       "   SUBJECT_ID  HADM_ID                                          DIAGNOSES  \\\n",
       "0          17   161087  [423.9, 511.9, 785.51, 458.9, 311.0, 722.0, 71...   \n",
       "1          17   194023                     [745.5, 458.29, V12.59, 272.4]   \n",
       "2          21   109451  [410.71, 785.51, 578.1, 584.9, 403.91, 428.0, ...   \n",
       "3          21   111970  [038.8, 785.52, 403.91, 427.31, 707.09, 511.9,...   \n",
       "4          23   124321  [225.2, 348.5, 780.39, 424.1, 401.9, 272.0, 27...   \n",
       "\n",
       "                                       DIAGNOSES_STR  \n",
       "0  423.9 511.9 785.51 458.9 311.0 722.0 719.46 272.4  \n",
       "1                          745.5 458.29 V12.59 272.4  \n",
       "2  410.71 785.51 578.1 584.9 403.91 428.0 459.2 5...  \n",
       "3  038.8 785.52 403.91 427.31 707.09 511.9 682.3 ...  \n",
       "4  225.2 348.5 780.39 424.1 401.9 272.0 272.4 V45...  "
      ]
     },
     "execution_count": 9,
     "metadata": {},
     "output_type": "execute_result"
    }
   ],
   "source": [
    "grouped_diag = (\n",
    "    diagnoses_long.groupby(['SUBJECT_ID', 'HADM_ID'])\n",
    "    .apply(lambda df: df.ICD9_CODE.tolist())\n",
    "    .reset_index()\n",
    "    .rename({0: 'DIAGNOSES'}, axis=1)\n",
    ")\n",
    "\n",
    "grouped_diag['DIAGNOSES_STR'] = grouped_diag.DIAGNOSES.apply(lambda ls: \" \".join(ls))\n",
    "print(grouped_diag.shape)\n",
    "\n",
    "grouped_diag.head()"
   ]
  },
  {
   "cell_type": "code",
   "execution_count": 10,
   "metadata": {},
   "outputs": [
    {
     "data": {
      "text/html": [
       "<div>\n",
       "<style scoped>\n",
       "    .dataframe tbody tr th:only-of-type {\n",
       "        vertical-align: middle;\n",
       "    }\n",
       "\n",
       "    .dataframe tbody tr th {\n",
       "        vertical-align: top;\n",
       "    }\n",
       "\n",
       "    .dataframe thead th {\n",
       "        text-align: right;\n",
       "    }\n",
       "</style>\n",
       "<table border=\"1\" class=\"dataframe\">\n",
       "  <thead>\n",
       "    <tr style=\"text-align: right;\">\n",
       "      <th></th>\n",
       "      <th>SUBJECT_ID</th>\n",
       "      <th>HADM_ID</th>\n",
       "      <th>DIAGNOSES</th>\n",
       "      <th>DIAGNOSES_STR</th>\n",
       "      <th>GROUP</th>\n",
       "    </tr>\n",
       "  </thead>\n",
       "  <tbody>\n",
       "    <tr>\n",
       "      <td>0</td>\n",
       "      <td>17</td>\n",
       "      <td>161087</td>\n",
       "      <td>[423.9, 511.9, 785.51, 458.9, 311.0, 722.0, 71...</td>\n",
       "      <td>423.9 511.9 785.51 458.9 311.0 722.0 719.46 272.4</td>\n",
       "      <td>[423, 511, 785, 458, 311, 722, 719, 272]</td>\n",
       "    </tr>\n",
       "    <tr>\n",
       "      <td>1</td>\n",
       "      <td>17</td>\n",
       "      <td>194023</td>\n",
       "      <td>[745.5, 458.29, V12.59, 272.4]</td>\n",
       "      <td>745.5 458.29 V12.59 272.4</td>\n",
       "      <td>[745, 458, V12, 272]</td>\n",
       "    </tr>\n",
       "    <tr>\n",
       "      <td>2</td>\n",
       "      <td>21</td>\n",
       "      <td>109451</td>\n",
       "      <td>[410.71, 785.51, 578.1, 584.9, 403.91, 428.0, ...</td>\n",
       "      <td>410.71 785.51 578.1 584.9 403.91 428.0 459.2 5...</td>\n",
       "      <td>[410, 785, 578, 584, 403, 428, 459, 507, 427, ...</td>\n",
       "    </tr>\n",
       "    <tr>\n",
       "      <td>3</td>\n",
       "      <td>21</td>\n",
       "      <td>111970</td>\n",
       "      <td>[038.8, 785.52, 403.91, 427.31, 707.09, 511.9,...</td>\n",
       "      <td>038.8 785.52 403.91 427.31 707.09 511.9 682.3 ...</td>\n",
       "      <td>[038, 785, 403, 427, 707, 511, 682, 998, 008, ...</td>\n",
       "    </tr>\n",
       "    <tr>\n",
       "      <td>4</td>\n",
       "      <td>23</td>\n",
       "      <td>124321</td>\n",
       "      <td>[225.2, 348.5, 780.39, 424.1, 401.9, 272.0, 27...</td>\n",
       "      <td>225.2 348.5 780.39 424.1 401.9 272.0 272.4 V45...</td>\n",
       "      <td>[225, 348, 780, 424, 401, 272, 272, V45, V45, ...</td>\n",
       "    </tr>\n",
       "  </tbody>\n",
       "</table>\n",
       "</div>"
      ],
      "text/plain": [
       "   SUBJECT_ID  HADM_ID                                          DIAGNOSES  \\\n",
       "0          17   161087  [423.9, 511.9, 785.51, 458.9, 311.0, 722.0, 71...   \n",
       "1          17   194023                     [745.5, 458.29, V12.59, 272.4]   \n",
       "2          21   109451  [410.71, 785.51, 578.1, 584.9, 403.91, 428.0, ...   \n",
       "3          21   111970  [038.8, 785.52, 403.91, 427.31, 707.09, 511.9,...   \n",
       "4          23   124321  [225.2, 348.5, 780.39, 424.1, 401.9, 272.0, 27...   \n",
       "\n",
       "                                       DIAGNOSES_STR  \\\n",
       "0  423.9 511.9 785.51 458.9 311.0 722.0 719.46 272.4   \n",
       "1                          745.5 458.29 V12.59 272.4   \n",
       "2  410.71 785.51 578.1 584.9 403.91 428.0 459.2 5...   \n",
       "3  038.8 785.52 403.91 427.31 707.09 511.9 682.3 ...   \n",
       "4  225.2 348.5 780.39 424.1 401.9 272.0 272.4 V45...   \n",
       "\n",
       "                                               GROUP  \n",
       "0           [423, 511, 785, 458, 311, 722, 719, 272]  \n",
       "1                               [745, 458, V12, 272]  \n",
       "2  [410, 785, 578, 584, 403, 428, 459, 507, 427, ...  \n",
       "3  [038, 785, 403, 427, 707, 511, 682, 998, 008, ...  \n",
       "4  [225, 348, 780, 424, 401, 272, 272, V45, V45, ...  "
      ]
     },
     "execution_count": 10,
     "metadata": {},
     "output_type": "execute_result"
    }
   ],
   "source": [
    "grouped_diag['GROUP'] = (\n",
    "    grouped_diag.DIAGNOSES\n",
    "    .apply(lambda ls: [code.split('.')[0] for code in ls])\n",
    ")\n",
    "grouped_diag.head()"
   ]
  },
  {
   "cell_type": "markdown",
   "metadata": {},
   "source": [
    "## Tokenize diagnoses"
   ]
  },
  {
   "cell_type": "code",
   "execution_count": 11,
   "metadata": {},
   "outputs": [
    {
     "data": {
      "text/html": [
       "<div>\n",
       "<style scoped>\n",
       "    .dataframe tbody tr th:only-of-type {\n",
       "        vertical-align: middle;\n",
       "    }\n",
       "\n",
       "    .dataframe tbody tr th {\n",
       "        vertical-align: top;\n",
       "    }\n",
       "\n",
       "    .dataframe thead th {\n",
       "        text-align: right;\n",
       "    }\n",
       "</style>\n",
       "<table border=\"1\" class=\"dataframe\">\n",
       "  <thead>\n",
       "    <tr style=\"text-align: right;\">\n",
       "      <th></th>\n",
       "      <th>SUBJECT_ID</th>\n",
       "      <th>HADM_ID</th>\n",
       "      <th>DIAGNOSES</th>\n",
       "      <th>DIAGNOSES_STR</th>\n",
       "      <th>GROUP</th>\n",
       "      <th>SEQUENCES</th>\n",
       "    </tr>\n",
       "  </thead>\n",
       "  <tbody>\n",
       "    <tr>\n",
       "      <td>0</td>\n",
       "      <td>17</td>\n",
       "      <td>161087</td>\n",
       "      <td>[423.9, 511.9, 785.51, 458.9, 311.0, 722.0, 71...</td>\n",
       "      <td>423.9 511.9 785.51 458.9 311.0 722.0 719.46 272.4</td>\n",
       "      <td>[423, 511, 785, 458, 311, 722, 719, 272]</td>\n",
       "      <td>[260, 34, 125, 46, 25, 1338, 878, 7]</td>\n",
       "    </tr>\n",
       "    <tr>\n",
       "      <td>1</td>\n",
       "      <td>17</td>\n",
       "      <td>194023</td>\n",
       "      <td>[745.5, 458.29, V12.59, 272.4]</td>\n",
       "      <td>745.5 458.29 V12.59 272.4</td>\n",
       "      <td>[745, 458, V12, 272]</td>\n",
       "      <td>[271, 58, 384, 7]</td>\n",
       "    </tr>\n",
       "    <tr>\n",
       "      <td>2</td>\n",
       "      <td>21</td>\n",
       "      <td>109451</td>\n",
       "      <td>[410.71, 785.51, 578.1, 584.9, 403.91, 428.0, ...</td>\n",
       "      <td>410.71 785.51 578.1 584.9 403.91 428.0 459.2 5...</td>\n",
       "      <td>[410, 785, 578, 584, 403, 428, 459, 507, 427, ...</td>\n",
       "      <td>[41, 125, 157, 4, 21, 2, 472, 29, 3, 64, 5, 6,...</td>\n",
       "    </tr>\n",
       "    <tr>\n",
       "      <td>3</td>\n",
       "      <td>21</td>\n",
       "      <td>111970</td>\n",
       "      <td>[038.8, 785.52, 403.91, 427.31, 707.09, 511.9,...</td>\n",
       "      <td>038.8 785.52 403.91 427.31 707.09 511.9 682.3 ...</td>\n",
       "      <td>[038, 785, 403, 427, 707, 511, 682, 998, 008, ...</td>\n",
       "      <td>[465, 35, 21, 3, 434, 34, 553, 77, 57, 742, 19...</td>\n",
       "    </tr>\n",
       "    <tr>\n",
       "      <td>4</td>\n",
       "      <td>23</td>\n",
       "      <td>124321</td>\n",
       "      <td>[225.2, 348.5, 780.39, 424.1, 401.9, 272.0, 27...</td>\n",
       "      <td>225.2 348.5 780.39 424.1 401.9 272.0 272.4 V45...</td>\n",
       "      <td>[225, 348, 780, 424, 401, 272, 272, V45, V45, ...</td>\n",
       "      <td>[607, 208, 56, 53, 1, 15, 7, 17, 448, 36]</td>\n",
       "    </tr>\n",
       "  </tbody>\n",
       "</table>\n",
       "</div>"
      ],
      "text/plain": [
       "   SUBJECT_ID  HADM_ID                                          DIAGNOSES  \\\n",
       "0          17   161087  [423.9, 511.9, 785.51, 458.9, 311.0, 722.0, 71...   \n",
       "1          17   194023                     [745.5, 458.29, V12.59, 272.4]   \n",
       "2          21   109451  [410.71, 785.51, 578.1, 584.9, 403.91, 428.0, ...   \n",
       "3          21   111970  [038.8, 785.52, 403.91, 427.31, 707.09, 511.9,...   \n",
       "4          23   124321  [225.2, 348.5, 780.39, 424.1, 401.9, 272.0, 27...   \n",
       "\n",
       "                                       DIAGNOSES_STR  \\\n",
       "0  423.9 511.9 785.51 458.9 311.0 722.0 719.46 272.4   \n",
       "1                          745.5 458.29 V12.59 272.4   \n",
       "2  410.71 785.51 578.1 584.9 403.91 428.0 459.2 5...   \n",
       "3  038.8 785.52 403.91 427.31 707.09 511.9 682.3 ...   \n",
       "4  225.2 348.5 780.39 424.1 401.9 272.0 272.4 V45...   \n",
       "\n",
       "                                               GROUP  \\\n",
       "0           [423, 511, 785, 458, 311, 722, 719, 272]   \n",
       "1                               [745, 458, V12, 272]   \n",
       "2  [410, 785, 578, 584, 403, 428, 459, 507, 427, ...   \n",
       "3  [038, 785, 403, 427, 707, 511, 682, 998, 008, ...   \n",
       "4  [225, 348, 780, 424, 401, 272, 272, V45, V45, ...   \n",
       "\n",
       "                                           SEQUENCES  \n",
       "0               [260, 34, 125, 46, 25, 1338, 878, 7]  \n",
       "1                                  [271, 58, 384, 7]  \n",
       "2  [41, 125, 157, 4, 21, 2, 472, 29, 3, 64, 5, 6,...  \n",
       "3  [465, 35, 21, 3, 434, 34, 553, 77, 57, 742, 19...  \n",
       "4          [607, 208, 56, 53, 1, 15, 7, 17, 448, 36]  "
      ]
     },
     "execution_count": 11,
     "metadata": {},
     "output_type": "execute_result"
    }
   ],
   "source": [
    "tokenizer = Tokenizer(filters=\"\", lower=False)\n",
    "tokenizer.fit_on_texts(grouped_diag.DIAGNOSES_STR)\n",
    "\n",
    "grouped_diag['SEQUENCES'] = tokenizer.texts_to_sequences(grouped_diag.DIAGNOSES_STR)\n",
    "grouped_diag.head()"
   ]
  },
  {
   "cell_type": "markdown",
   "metadata": {},
   "source": [
    "## Create Label encoder"
   ]
  },
  {
   "cell_type": "code",
   "execution_count": 12,
   "metadata": {},
   "outputs": [
    {
     "data": {
      "text/plain": [
       "MultiLabelBinarizer(classes=None, sparse_output=False)"
      ]
     },
     "execution_count": 12,
     "metadata": {},
     "output_type": "execute_result"
    }
   ],
   "source": [
    "label_enc = MultiLabelBinarizer()\n",
    "label_enc.fit(grouped_diag.GROUP)"
   ]
  },
  {
   "cell_type": "markdown",
   "metadata": {},
   "source": [
    "## Grouping by subjects"
   ]
  },
  {
   "cell_type": "code",
   "execution_count": 13,
   "metadata": {},
   "outputs": [
    {
     "name": "stdout",
     "output_type": "stream",
     "text": [
      "(7499, 2)\n"
     ]
    },
    {
     "data": {
      "text/html": [
       "<div>\n",
       "<style scoped>\n",
       "    .dataframe tbody tr th:only-of-type {\n",
       "        vertical-align: middle;\n",
       "    }\n",
       "\n",
       "    .dataframe tbody tr th {\n",
       "        vertical-align: top;\n",
       "    }\n",
       "\n",
       "    .dataframe thead th {\n",
       "        text-align: right;\n",
       "    }\n",
       "</style>\n",
       "<table border=\"1\" class=\"dataframe\">\n",
       "  <thead>\n",
       "    <tr style=\"text-align: right;\">\n",
       "      <th></th>\n",
       "      <th>GROUP</th>\n",
       "      <th>SEQUENCES</th>\n",
       "    </tr>\n",
       "    <tr>\n",
       "      <th>SUBJECT_ID</th>\n",
       "      <th></th>\n",
       "      <th></th>\n",
       "    </tr>\n",
       "  </thead>\n",
       "  <tbody>\n",
       "    <tr>\n",
       "      <td>17</td>\n",
       "      <td>[[423, 511, 785, 458, 311, 722, 719, 272], [74...</td>\n",
       "      <td>[[260, 34, 125, 46, 25, 1338, 878, 7], [271, 5...</td>\n",
       "    </tr>\n",
       "    <tr>\n",
       "      <td>21</td>\n",
       "      <td>[[410, 785, 578, 584, 403, 428, 459, 507, 427,...</td>\n",
       "      <td>[[41, 125, 157, 4, 21, 2, 472, 29, 3, 64, 5, 6...</td>\n",
       "    </tr>\n",
       "    <tr>\n",
       "      <td>23</td>\n",
       "      <td>[[225, 348, 780, 424, 401, 272, 272, V45, V45,...</td>\n",
       "      <td>[[607, 208, 56, 53, 1, 15, 7, 17, 448, 36], [5...</td>\n",
       "    </tr>\n",
       "    <tr>\n",
       "      <td>34</td>\n",
       "      <td>[[E879, 410, 428, 425, 427, 997, 426, 414], [4...</td>\n",
       "      <td>[[337, 41, 2, 50, 3, 70, 289, 5], [48, 72, 427...</td>\n",
       "    </tr>\n",
       "    <tr>\n",
       "      <td>36</td>\n",
       "      <td>[[998, 998, 415, 453, 996, 496, 414, V45, 401,...</td>\n",
       "      <td>[[473, 89, 679, 171, 274, 14, 5, 17, 1, 90, 10...</td>\n",
       "    </tr>\n",
       "  </tbody>\n",
       "</table>\n",
       "</div>"
      ],
      "text/plain": [
       "                                                        GROUP  \\\n",
       "SUBJECT_ID                                                      \n",
       "17          [[423, 511, 785, 458, 311, 722, 719, 272], [74...   \n",
       "21          [[410, 785, 578, 584, 403, 428, 459, 507, 427,...   \n",
       "23          [[225, 348, 780, 424, 401, 272, 272, V45, V45,...   \n",
       "34          [[E879, 410, 428, 425, 427, 997, 426, 414], [4...   \n",
       "36          [[998, 998, 415, 453, 996, 496, 414, V45, 401,...   \n",
       "\n",
       "                                                    SEQUENCES  \n",
       "SUBJECT_ID                                                     \n",
       "17          [[260, 34, 125, 46, 25, 1338, 878, 7], [271, 5...  \n",
       "21          [[41, 125, 157, 4, 21, 2, 472, 29, 3, 64, 5, 6...  \n",
       "23          [[607, 208, 56, 53, 1, 15, 7, 17, 448, 36], [5...  \n",
       "34          [[337, 41, 2, 50, 3, 70, 289, 5], [48, 72, 427...  \n",
       "36          [[473, 89, 679, 171, 274, 14, 5, 17, 1, 90, 10...  "
      ]
     },
     "execution_count": 13,
     "metadata": {},
     "output_type": "execute_result"
    }
   ],
   "source": [
    "grouped_subjs = (\n",
    "    grouped_diag.loc[:, ['SUBJECT_ID', 'SEQUENCES', 'GROUP']]\n",
    "    .groupby('SUBJECT_ID')\n",
    "    .agg({\n",
    "        'GROUP': lambda groups: groups.tolist(),\n",
    "        'SEQUENCES': lambda seqs: seqs.tolist()\n",
    "    })\n",
    ")\n",
    "\n",
    "print(grouped_subjs.shape)\n",
    "grouped_subjs.head()"
   ]
  },
  {
   "cell_type": "markdown",
   "metadata": {},
   "source": [
    "## Moving target forward in time\n",
    "\n",
    "Since we are predicting the labels in the next admission, we are removing the first label from each subject records, as well as remove last visits. This will effectively move target forward in time by one time step, since by removing the first label the first visit is now matched with the second visit's group (which is what we are trying to predict).\n",
    "\n",
    "Keep in mind that visits here has already been embedded into count vectors (vectors of integer associated with an index in the `word_index` of our keras `Tokenizer`)."
   ]
  },
  {
   "cell_type": "code",
   "execution_count": 14,
   "metadata": {},
   "outputs": [],
   "source": [
    "visits = grouped_subjs.SEQUENCES.tolist()\n",
    "labels = grouped_subjs.GROUP.tolist()\n",
    "\n",
    "visits = [visit[:-1] for visit in visits]\n",
    "labels = [label[1:] for label in labels]"
   ]
  },
  {
   "cell_type": "markdown",
   "metadata": {},
   "source": [
    "## Pad Visits\n",
    "\n",
    "Since we have a list of list of list, we need to pad it on multiple level."
   ]
  },
  {
   "cell_type": "code",
   "execution_count": 15,
   "metadata": {},
   "outputs": [
    {
     "name": "stdout",
     "output_type": "stream",
     "text": [
      "Max number of visits per patient: 41\n",
      "Max number of diagnosis in a visit: 39\n"
     ]
    }
   ],
   "source": [
    "n_visits_max = max([len(visit) for visit in visits])\n",
    "n_diagnosis_max = max([max(map(len, visit)) for visit in visits])\n",
    "\n",
    "print(\"Max number of visits per patient:\", n_visits_max)\n",
    "print(\"Max number of diagnosis in a visit:\", n_diagnosis_max)"
   ]
  },
  {
   "cell_type": "code",
   "execution_count": 16,
   "metadata": {},
   "outputs": [
    {
     "data": {
      "text/plain": [
       "(7499, 41, 39)"
      ]
     },
     "execution_count": 16,
     "metadata": {},
     "output_type": "execute_result"
    }
   ],
   "source": [
    "visits_padded = pad_sequences([\n",
    "    pad_sequences(visit, maxlen=n_diagnosis_max) \n",
    "    for visit in visits\n",
    "])\n",
    "\n",
    "visits_padded.shape"
   ]
  },
  {
   "cell_type": "markdown",
   "metadata": {},
   "source": [
    "## Pad labels"
   ]
  },
  {
   "cell_type": "code",
   "execution_count": 17,
   "metadata": {},
   "outputs": [
    {
     "data": {
      "text/plain": [
       "(7499, 41, 939)"
      ]
     },
     "execution_count": 17,
     "metadata": {},
     "output_type": "execute_result"
    }
   ],
   "source": [
    "labels_padded = pad_sequences([label_enc.transform(label) for label in labels])\n",
    "labels_padded.shape"
   ]
  },
  {
   "cell_type": "markdown",
   "metadata": {},
   "source": [
    "## Train test split"
   ]
  },
  {
   "cell_type": "code",
   "execution_count": 18,
   "metadata": {},
   "outputs": [
    {
     "name": "stdout",
     "output_type": "stream",
     "text": [
      "(6749, 41, 39)\n",
      "(750, 41, 39)\n",
      "(6749, 41, 939)\n",
      "(750, 41, 939)\n"
     ]
    }
   ],
   "source": [
    "train_visits, test_visits, train_labels, test_labels = train_test_split(\n",
    "    visits_padded, labels_padded, test_size=0.1, random_state=2019)\n",
    "\n",
    "print(train_visits.shape)\n",
    "print(test_visits.shape)\n",
    "print(train_labels.shape)\n",
    "print(test_labels.shape)"
   ]
  },
  {
   "cell_type": "markdown",
   "metadata": {},
   "source": [
    "# Modelling"
   ]
  },
  {
   "cell_type": "markdown",
   "metadata": {},
   "source": [
    "## Evaluation metric"
   ]
  },
  {
   "cell_type": "code",
   "execution_count": 19,
   "metadata": {},
   "outputs": [],
   "source": [
    "def top_k_recall(y_true, y_pred, use_tqdm=True, k=30):\n",
    "    pred_flat = y_pred.reshape(-1, 939)\n",
    "    true_flat = y_true.reshape(-1, 939)\n",
    "    \n",
    "    all_patients_recall = []\n",
    "\n",
    "    for adm_idx in tqdm(range(true_flat.shape[0]), disable=not use_tqdm):\n",
    "        true_indices = np.argwhere(true_flat[adm_idx] == 1).reshape(-1)\n",
    "\n",
    "        # If this admission does not have any diagnosis, then it\n",
    "        # is a dummy admission created by padding from keras\n",
    "        if true_indices.shape[0] > 0:\n",
    "            pred_indices = pred_flat[adm_idx].argsort()[-k:]\n",
    "\n",
    "            intersection_count = len(np.intersect1d(pred_indices, true_indices))\n",
    "\n",
    "            recall = intersection_count / len(true_indices)\n",
    "            all_patients_recall.append(recall)\n",
    "\n",
    "    all_patients_recall = np.array(all_patients_recall)\n",
    "    return all_patients_recall"
   ]
  },
  {
   "cell_type": "markdown",
   "metadata": {},
   "source": [
    "## Custom callback to monitor top-k recall"
   ]
  },
  {
   "cell_type": "code",
   "execution_count": 20,
   "metadata": {},
   "outputs": [],
   "source": [
    "class TopKRecallCallback(Callback):\n",
    "    def __init__(self, X_test, y_test):\n",
    "        super().__init__()\n",
    "        self.X_test = X_test\n",
    "        self.y_test = y_test\n",
    "        \n",
    "    def on_train_begin(self, logs={}):\n",
    "        self.test_recalls_at_10 = []\n",
    "        self.test_recalls_at_20 = []\n",
    "        self.test_recalls_at_30 = []\n",
    "\n",
    "    def on_epoch_end(self, epoch, logs={}):\n",
    "        y_pred = self.model.predict(self.X_test, batch_size=256)\n",
    "        y_test = self.y_test\n",
    "        \n",
    "        _test_recall_at_10 = top_k_recall(y_test, y_pred, k=10, use_tqdm=False).mean()\n",
    "        _test_recall_at_20 = top_k_recall(y_test, y_pred, k=20, use_tqdm=False).mean()\n",
    "        _test_recall_at_30 = top_k_recall(y_test, y_pred, k=30, use_tqdm=False).mean()\n",
    "        \n",
    "        self.test_recalls_at_10.append(_test_recall_at_10)\n",
    "        self.test_recalls_at_20.append(_test_recall_at_20)\n",
    "        self.test_recalls_at_30.append(_test_recall_at_30)\n",
    "\n",
    "        print(f\"\\ntest_top_k_recall: {_test_recall_at_10:.4f}@10; {_test_recall_at_20:.4f}@20; {_test_recall_at_30:.4f}@30\")\n",
    "\n",
    "        return"
   ]
  },
  {
   "cell_type": "markdown",
   "metadata": {},
   "source": [
    "## Building Model"
   ]
  },
  {
   "cell_type": "code",
   "execution_count": 22,
   "metadata": {},
   "outputs": [],
   "source": [
    "def build_model(num_words, embedding_dim=200):\n",
    "    input1 = Input(shape=(None, None))\n",
    "    x = Embedding(num_words, embedding_dim, mask_zero=False)(input1)\n",
    "    x = K.sum(x, axis=2)\n",
    "    x = Masking(0)(x)\n",
    "    \n",
    "    x = GRU(200, return_sequences=True)(x)\n",
    "    x = GRU(200, return_sequences=True)(x)\n",
    "    \n",
    "    x = Dense(300, activation='relu')(x)\n",
    "    x = Dropout(0.5)(x)\n",
    "    x = Dense(939, activation='softmax')(x)\n",
    "\n",
    "    model = Model(inputs=input1, outputs=x)\n",
    "    model.compile('adam', loss='binary_crossentropy')\n",
    "    \n",
    "    return model"
   ]
  },
  {
   "cell_type": "code",
   "execution_count": 23,
   "metadata": {},
   "outputs": [
    {
     "name": "stdout",
     "output_type": "stream",
     "text": [
      "Model: \"model\"\n",
      "_________________________________________________________________\n",
      "Layer (type)                 Output Shape              Param #   \n",
      "=================================================================\n",
      "input_1 (InputLayer)         [(None, None, None)]      0         \n",
      "_________________________________________________________________\n",
      "embedding (Embedding)        (None, None, None, 200)   976200    \n",
      "_________________________________________________________________\n",
      "tf_op_layer_Sum (TensorFlowO [(None, None, 200)]       0         \n",
      "_________________________________________________________________\n",
      "masking (Masking)            (None, None, 200)         0         \n",
      "_________________________________________________________________\n",
      "gru (GRU)                    (None, None, 200)         241200    \n",
      "_________________________________________________________________\n",
      "gru_1 (GRU)                  (None, None, 200)         241200    \n",
      "_________________________________________________________________\n",
      "dense (Dense)                (None, None, 300)         60300     \n",
      "_________________________________________________________________\n",
      "dropout (Dropout)            (None, None, 300)         0         \n",
      "_________________________________________________________________\n",
      "dense_1 (Dense)              (None, None, 939)         282639    \n",
      "=================================================================\n",
      "Total params: 1,801,539\n",
      "Trainable params: 1,801,539\n",
      "Non-trainable params: 0\n",
      "_________________________________________________________________\n"
     ]
    }
   ],
   "source": [
    "num_words = len(tokenizer.word_index) + 1\n",
    "model = build_model(num_words)\n",
    "model.summary()"
   ]
  },
  {
   "cell_type": "code",
   "execution_count": 24,
   "metadata": {
    "scrolled": false
   },
   "outputs": [
    {
     "name": "stdout",
     "output_type": "stream",
     "text": [
      "Train on 6074 samples, validate on 675 samples\n",
      "Epoch 1/10\n",
      "6074/6074 [==============================] - 19s 3ms/sample - loss: 0.0039 - val_loss: 0.0039\n",
      "Epoch 2/10\n",
      "6074/6074 [==============================] - 6s 1ms/sample - loss: 0.0038 - val_loss: 0.0039\n",
      "Epoch 3/10\n",
      "6074/6074 [==============================] - 6s 992us/sample - loss: 0.0038 - val_loss: 0.0039\n",
      "Epoch 4/10\n",
      "6074/6074 [==============================] - 6s 1ms/sample - loss: 0.0037 - val_loss: 0.0038\n",
      "Epoch 5/10\n",
      "6074/6074 [==============================] - 7s 1ms/sample - loss: 0.0037 - val_loss: 0.0038\n",
      "Epoch 6/10\n",
      "6074/6074 [==============================] - 6s 1ms/sample - loss: 0.0037 - val_loss: 0.0038\n",
      "Epoch 7/10\n",
      "6074/6074 [==============================] - 6s 1ms/sample - loss: 0.0037 - val_loss: 0.0038\n",
      "Epoch 8/10\n",
      "6074/6074 [==============================] - 6s 1ms/sample - loss: 0.0037 - val_loss: 0.0038\n",
      "Epoch 9/10\n",
      "6074/6074 [==============================] - 6s 1ms/sample - loss: 0.0036 - val_loss: 0.0038\n",
      "Epoch 10/10\n",
      "6074/6074 [==============================] - 6s 1ms/sample - loss: 0.0036 - val_loss: 0.0038\n"
     ]
    },
    {
     "data": {
      "text/plain": [
       "<tensorflow.python.keras.callbacks.History at 0x7fa0681a9950>"
      ]
     },
     "execution_count": 24,
     "metadata": {},
     "output_type": "execute_result"
    }
   ],
   "source": [
    "callbacks = [\n",
    "    TopKRecallCallback(X_test=test_visits, y_test=test_labels)\n",
    "]\n",
    "\n",
    "model.fit(\n",
    "    train_visits, \n",
    "    train_labels, \n",
    "    batch_size=64, \n",
    "    epochs=10, \n",
    "    verbose=1,\n",
    "    callbacks=callbacks,\n",
    "    validation_split=0.1\n",
    ")"
   ]
  },
  {
   "cell_type": "markdown",
   "metadata": {},
   "source": [
    "# Evaluation"
   ]
  },
  {
   "cell_type": "markdown",
   "metadata": {},
   "source": [
    "## Eval on train"
   ]
  },
  {
   "cell_type": "code",
   "execution_count": 25,
   "metadata": {},
   "outputs": [
    {
     "name": "stdout",
     "output_type": "stream",
     "text": [
      "CPU times: user 24.1 s, sys: 49.2 s, total: 1min 13s\n",
      "Wall time: 5.52 s\n"
     ]
    }
   ],
   "source": [
    "%%time\n",
    "with tf.device('/gpu:0'):\n",
    "    train_pred = model.predict(train_visits, batch_size=512)"
   ]
  },
  {
   "cell_type": "code",
   "execution_count": 26,
   "metadata": {},
   "outputs": [
    {
     "name": "stderr",
     "output_type": "stream",
     "text": [
      "100%|██████████| 276709/276709 [00:03<00:00, 71779.65it/s]\n"
     ]
    },
    {
     "data": {
      "text/plain": [
       "0.5649448928782117"
      ]
     },
     "execution_count": 26,
     "metadata": {},
     "output_type": "execute_result"
    }
   ],
   "source": [
    "all_patients_recall = top_k_recall(y_true=train_labels, y_pred=train_pred)\n",
    "all_patients_recall.mean()"
   ]
  },
  {
   "cell_type": "markdown",
   "metadata": {},
   "source": [
    "## Eval on test"
   ]
  },
  {
   "cell_type": "code",
   "execution_count": 27,
   "metadata": {},
   "outputs": [
    {
     "name": "stdout",
     "output_type": "stream",
     "text": [
      "CPU times: user 1.9 s, sys: 3.46 s, total: 5.35 s\n",
      "Wall time: 333 ms\n"
     ]
    }
   ],
   "source": [
    "%%time\n",
    "with tf.device('/gpu:0'):\n",
    "    test_pred = model.predict(test_visits, batch_size=512)"
   ]
  },
  {
   "cell_type": "code",
   "execution_count": 28,
   "metadata": {},
   "outputs": [
    {
     "name": "stderr",
     "output_type": "stream",
     "text": [
      "100%|██████████| 30750/30750 [00:00<00:00, 58337.70it/s]\n"
     ]
    },
    {
     "data": {
      "text/plain": [
       "0.565019502320133"
      ]
     },
     "execution_count": 28,
     "metadata": {},
     "output_type": "execute_result"
    }
   ],
   "source": [
    "all_patients_recall = top_k_recall(y_true=test_labels, y_pred=test_pred)\n",
    "all_patients_recall.mean()"
   ]
  },
  {
   "cell_type": "markdown",
   "metadata": {},
   "source": [
    "# Saving Data"
   ]
  },
  {
   "cell_type": "code",
   "execution_count": 30,
   "metadata": {},
   "outputs": [],
   "source": [
    "admissions_long.to_csv('../generated_data/ADMISSIONS_LONGITUDINAL.CSV')"
   ]
  }
 ],
 "metadata": {
  "kernelspec": {
   "display_name": "Python 3",
   "language": "python",
   "name": "python3"
  },
  "language_info": {
   "codemirror_mode": {
    "name": "ipython",
    "version": 3
   },
   "file_extension": ".py",
   "mimetype": "text/x-python",
   "name": "python",
   "nbconvert_exporter": "python",
   "pygments_lexer": "ipython3",
   "version": "3.7.4"
  }
 },
 "nbformat": 4,
 "nbformat_minor": 2
}
